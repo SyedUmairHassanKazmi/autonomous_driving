{
 "cells": [
  {
   "cell_type": "code",
   "execution_count": 1,
   "id": "75e1ec3e",
   "metadata": {},
   "outputs": [],
   "source": [
    "import cv2\n",
    "import numpy as np\n",
    "from matplotlib import pyplot as plt"
   ]
  },
  {
   "cell_type": "code",
   "execution_count": 2,
   "id": "9ea331bc",
   "metadata": {},
   "outputs": [],
   "source": [
    "def canny(image):\n",
    "    gray = cv2.cvtColor(image, cv2.COLOR_RGB2GRAY)\n",
    "    blur = cv2.GaussianBlur(gray, (5,5), 0)\n",
    "    canny = cv2.Canny(blur, 50, 150)\n",
    "    return canny"
   ]
  },
  {
   "cell_type": "code",
   "execution_count": 3,
   "id": "d722981c",
   "metadata": {},
   "outputs": [],
   "source": [
    "def region_of_interest(image):\n",
    "    height = image.shape[0]\n",
    "    polygons = np.array([[(200, height), (1100, height), (550,250)]]) \n",
    "    mask = np.zeros_like(image)\n",
    "    cv2.fillPoly(mask, polygons, 255)\n",
    "    masked_image = cv2.bitwise_and(image, mask)\n",
    "    return masked_image"
   ]
  },
  {
   "cell_type": "code",
   "execution_count": 4,
   "id": "674cca81",
   "metadata": {},
   "outputs": [],
   "source": [
    "def display_lines(image, lines):\n",
    "    line_image = np.zeros_like(image)\n",
    "    if lines is not None:\n",
    "        for x1, y1, x2, y2 in lines:   \n",
    "            cv2.line(line_image, (x1, y1), (x2, y2), (0,0,255), 10)\n",
    "    return line_image"
   ]
  },
  {
   "cell_type": "code",
   "execution_count": 5,
   "id": "19efc266",
   "metadata": {},
   "outputs": [],
   "source": [
    "def make_coordinates(image, line_parameters):\n",
    "    try:\n",
    "        slope, intercept = line_parameters\n",
    "    except TypeError:\n",
    "        slope, intercept = 0.0001,0\n",
    "    #slope, intercept = line_parameters\n",
    "    y1 = image.shape[0]\n",
    "    y2 = int(y1*3/5)\n",
    "    x1 = int((y1 -  intercept)/slope)\n",
    "    x2 = int((y2 -  intercept)/slope)\n",
    "    return np.array([x1, y1, x2, y2])"
   ]
  },
  {
   "cell_type": "code",
   "execution_count": 6,
   "id": "176591d5",
   "metadata": {},
   "outputs": [],
   "source": [
    "def average_slope_intercept(image, lines):\n",
    "    left_fit = []\n",
    "    right_fit = []\n",
    "    for line in lines:\n",
    "        x1, y1, x2, y2 = line.reshape(4)\n",
    "        parameters = np.polyfit((x1,x2), (y1,y2), 1)\n",
    "        slope = parameters[0]\n",
    "        intercept = parameters[1]\n",
    "        if slope <0:\n",
    "            left_fit.append((slope,intercept))\n",
    "        else:\n",
    "            right_fit.append((slope,intercept))\n",
    "#     if left_fit:\n",
    "#         left_fit_average = np.average(left_fit, axis=0)\n",
    "#         #print(left_fit_average, 'left')\n",
    "#         left_line = make_coordinates(image, left_fit_average)\n",
    "#     if right_fit:\n",
    "#         right_fit_average = np.average(right_fit, axis=0)\n",
    "#         #print(right_fit_average, 'right')\n",
    "#         right_line = make_coordinates(image, right_fit_average)\n",
    "    left_fit_avg = np.average(left_fit, axis = 0)\n",
    "    right_fit_avg = np.average(right_fit, axis = 0)\n",
    "    left_line = make_coordinates(image, left_fit_avg)\n",
    "    right_line = make_coordinates(image, right_fit_avg)\n",
    "    return np.array([left_line, right_line])"
   ]
  },
  {
   "cell_type": "code",
   "execution_count": 7,
   "id": "6b69e8c6",
   "metadata": {},
   "outputs": [
    {
     "data": {
      "text/plain": [
       "113"
      ]
     },
     "execution_count": 7,
     "metadata": {},
     "output_type": "execute_result"
    }
   ],
   "source": [
    "image = cv2.imread('test_image.jpeg')\n",
    "lane_image = np.copy(image)\n",
    "canny_image = canny(lane_image)\n",
    "cropped_image = region_of_interest(canny_image)\n",
    "lines= cv2.HoughLinesP(cropped_image, 2, np.pi/180, 100,\n",
    "                       np.array([]), minLineLength = 40, maxLineGap = 5)\n",
    "averages_lines= average_slope_intercept(lane_image, lines)\n",
    "line_image = display_lines(lane_image, averages_lines)\n",
    "combo_image = cv2.addWeighted(lane_image, 0.8, line_image, 1, 1)\n",
    "cv2.imshow('lane', combo_image)\n",
    "cv2.imwrite('out_image.jpeg', combo_image)\n",
    "cv2.waitKey(0)"
   ]
  },
  {
   "cell_type": "code",
   "execution_count": 8,
   "id": "c1189ba6",
   "metadata": {},
   "outputs": [
    {
     "name": "stderr",
     "output_type": "stream",
     "text": [
      "/Users/kazmi/miniforge3/envs/tfexp/lib/python3.9/site-packages/numpy/lib/function_base.py:380: RuntimeWarning: Mean of empty slice.\n",
      "  avg = a.mean(axis)\n",
      "/Users/kazmi/miniforge3/envs/tfexp/lib/python3.9/site-packages/numpy/core/_methods.py:170: RuntimeWarning: invalid value encountered in double_scalars\n",
      "  ret = ret.dtype.type(ret / rcount)\n"
     ]
    }
   ],
   "source": [
    "cap = cv2.VideoCapture('test_vid.mp4')\n",
    "\n",
    "frame_width = int(cap.get(3))\n",
    "frame_height = int(cap.get(4))\n",
    "out = cv2.VideoWriter('out_vid.avi',cv2.VideoWriter_fourcc('M','J','P','G'), 40, (frame_width,frame_height))\n",
    "\n",
    "while(cap.isOpened()):\n",
    "    ret , frame = cap.read()\n",
    "    if ret == True:\n",
    "        canny_image = canny(frame)\n",
    "        cropped_image = region_of_interest(canny_image)\n",
    "        lines= cv2.HoughLinesP(cropped_image, 2, np.pi/180, 100,\n",
    "                               np.array([]), minLineLength = 40, maxLineGap = 5)\n",
    "        averages_lines= average_slope_intercept(frame, lines)\n",
    "        line_image = display_lines(frame, averages_lines)\n",
    "        combo_image = cv2.addWeighted(frame, 0.8, line_image, 1, 1)\n",
    "        cv2.imshow('lane', combo_image)\n",
    "        \n",
    "        out.write(combo_image)\n",
    "\n",
    "\n",
    "        if cv2.waitKey(2) & 0xFF == ord('q'):\n",
    "            break\n",
    "    else:\n",
    "        break\n",
    "            \n",
    "cap.release()\n",
    "out.release()\n",
    "cv2.destroyAllWindows()"
   ]
  },
  {
   "cell_type": "code",
   "execution_count": 9,
   "id": "f551af09",
   "metadata": {},
   "outputs": [],
   "source": [
    "#plt.imshow(canny_image)"
   ]
  },
  {
   "cell_type": "code",
   "execution_count": null,
   "id": "e1309d8f",
   "metadata": {},
   "outputs": [],
   "source": []
  }
 ],
 "metadata": {
  "kernelspec": {
   "display_name": "Python 3.9 (tfexp)",
   "language": "python",
   "name": "tfexp"
  },
  "language_info": {
   "codemirror_mode": {
    "name": "ipython",
    "version": 3
   },
   "file_extension": ".py",
   "mimetype": "text/x-python",
   "name": "python",
   "nbconvert_exporter": "python",
   "pygments_lexer": "ipython3",
   "version": "3.9.7"
  }
 },
 "nbformat": 4,
 "nbformat_minor": 5
}
